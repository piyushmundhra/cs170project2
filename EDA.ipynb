{
 "metadata": {
  "language_info": {
   "codemirror_mode": {
    "name": "ipython",
    "version": 3
   },
   "file_extension": ".py",
   "mimetype": "text/x-python",
   "name": "python",
   "nbconvert_exporter": "python",
   "pygments_lexer": "ipython3",
   "version": "3.7.4"
  },
  "orig_nbformat": 2,
  "kernelspec": {
   "name": "python3",
   "display_name": "Python 3.7.4 64-bit",
   "metadata": {
    "interpreter": {
     "hash": "bdee2116fd769b4a072551f151be109496cc32be19272a902d41b75640e2f6e7"
    }
   }
  }
 },
 "nbformat": 4,
 "nbformat_minor": 2,
 "cells": [
  {
   "cell_type": "code",
   "execution_count": 1,
   "metadata": {},
   "outputs": [],
   "source": [
    "import pandas as pd \n",
    "import numpy as np\n",
    "df = pd.read_csv('./Ver_2_CS170_Fall_2021_Small_data__74.txt', header=None)"
   ]
  },
  {
   "cell_type": "code",
   "execution_count": 2,
   "metadata": {},
   "outputs": [],
   "source": [
    "# DATA CLEANING AND PREPROCESSING\n",
    "rows = []\n",
    "for i in range(df.shape[0]):\n",
    "    temp = (df.iloc[i][0].split())\n",
    "    for j in range(len(temp)):\n",
    "\n",
    "        # Here I am converting the scientific notation into floats\n",
    "        temp[j] = float(temp[j])\n",
    "\n",
    "    # I put the classifications into one column and the vectors in the other\n",
    "    rows.append(pd.Series([temp[0], np.array(temp[1:])])) \n",
    "\n",
    "data = pd.DataFrame(rows)\n",
    "\n",
    "# Rename the columns for readable code\n",
    "data.columns = ['classification', 'vector'] "
   ]
  },
  {
   "cell_type": "code",
   "execution_count": 7,
   "metadata": {},
   "outputs": [
    {
     "output_type": "execute_result",
     "data": {
      "text/plain": [
       "   classification                                             vector\n",
       "0             2.0  [0.86160478, 1.2455817, 0.20317457, 0.88534224...\n",
       "1             2.0  [-0.98795878, -0.20452204, -0.64498585, -1.557...\n",
       "2             2.0  [-1.4792735, -1.5041537, 1.2886975, -0.0627947...\n",
       "3             2.0  [-0.22092142, -1.9266796, 0.64167247, 0.015177...\n",
       "4             2.0  [-0.1521499, 0.74871665, 0.14229458, 0.6681902...\n",
       "5             2.0  [0.082675367, -0.20049365, 0.5233768, 0.405501...\n",
       "6             2.0  [-0.33136848, -0.18179718, -1.3554072, 1.65210...\n",
       "7             1.0  [0.80259323, -0.027698353, 1.7339502, 0.236725...\n",
       "8             2.0  [0.39315453, 0.57037523, -0.49378716, 0.955038...\n",
       "9             2.0  [0.92332498, -1.3573827, -1.0012569, -0.353678..."
      ],
      "text/html": "<div>\n<style scoped>\n    .dataframe tbody tr th:only-of-type {\n        vertical-align: middle;\n    }\n\n    .dataframe tbody tr th {\n        vertical-align: top;\n    }\n\n    .dataframe thead th {\n        text-align: right;\n    }\n</style>\n<table border=\"1\" class=\"dataframe\">\n  <thead>\n    <tr style=\"text-align: right;\">\n      <th></th>\n      <th>classification</th>\n      <th>vector</th>\n    </tr>\n  </thead>\n  <tbody>\n    <tr>\n      <th>0</th>\n      <td>2.0</td>\n      <td>[0.86160478, 1.2455817, 0.20317457, 0.88534224...</td>\n    </tr>\n    <tr>\n      <th>1</th>\n      <td>2.0</td>\n      <td>[-0.98795878, -0.20452204, -0.64498585, -1.557...</td>\n    </tr>\n    <tr>\n      <th>2</th>\n      <td>2.0</td>\n      <td>[-1.4792735, -1.5041537, 1.2886975, -0.0627947...</td>\n    </tr>\n    <tr>\n      <th>3</th>\n      <td>2.0</td>\n      <td>[-0.22092142, -1.9266796, 0.64167247, 0.015177...</td>\n    </tr>\n    <tr>\n      <th>4</th>\n      <td>2.0</td>\n      <td>[-0.1521499, 0.74871665, 0.14229458, 0.6681902...</td>\n    </tr>\n    <tr>\n      <th>5</th>\n      <td>2.0</td>\n      <td>[0.082675367, -0.20049365, 0.5233768, 0.405501...</td>\n    </tr>\n    <tr>\n      <th>6</th>\n      <td>2.0</td>\n      <td>[-0.33136848, -0.18179718, -1.3554072, 1.65210...</td>\n    </tr>\n    <tr>\n      <th>7</th>\n      <td>1.0</td>\n      <td>[0.80259323, -0.027698353, 1.7339502, 0.236725...</td>\n    </tr>\n    <tr>\n      <th>8</th>\n      <td>2.0</td>\n      <td>[0.39315453, 0.57037523, -0.49378716, 0.955038...</td>\n    </tr>\n    <tr>\n      <th>9</th>\n      <td>2.0</td>\n      <td>[0.92332498, -1.3573827, -1.0012569, -0.353678...</td>\n    </tr>\n  </tbody>\n</table>\n</div>"
     },
     "metadata": {},
     "execution_count": 7
    }
   ],
   "source": [
    "# What the data looks like\n",
    "data.head(10)"
   ]
  },
  {
   "cell_type": "code",
   "execution_count": 5,
   "metadata": {},
   "outputs": [
    {
     "output_type": "execute_result",
     "data": {
      "text/plain": [
       "2.0"
      ]
     },
     "metadata": {},
     "execution_count": 5
    }
   ],
   "source": [
    "# data.vector = data.vector.map(lambda x: x[0:2])\n",
    "data.classification[0]"
   ]
  },
  {
   "cell_type": "code",
   "execution_count": 6,
   "metadata": {},
   "outputs": [
    {
     "output_type": "execute_result",
     "data": {
      "text/plain": [
       "0.75"
      ]
     },
     "metadata": {},
     "execution_count": 6
    }
   ],
   "source": [
    "from nearestNeighbor import accuracy\n",
    "from nearestNeighbor import nearestNeighbor\n",
    "# nearestNeighbor(0, data), data.classification[0]\n",
    "accuracy(data)"
   ]
  },
  {
   "cell_type": "code",
   "execution_count": null,
   "metadata": {},
   "outputs": [],
   "source": []
  }
 ]
}