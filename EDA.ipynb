{
 "metadata": {
  "language_info": {
   "codemirror_mode": {
    "name": "ipython",
    "version": 3
   },
   "file_extension": ".py",
   "mimetype": "text/x-python",
   "name": "python",
   "nbconvert_exporter": "python",
   "pygments_lexer": "ipython3",
   "version": "3.7.4"
  },
  "orig_nbformat": 2,
  "kernelspec": {
   "name": "python3",
   "display_name": "Python 3.7.4  ('cs170env': venv)",
   "metadata": {
    "interpreter": {
     "hash": "bdee2116fd769b4a072551f151be109496cc32be19272a902d41b75640e2f6e7"
    }
   }
  }
 },
 "nbformat": 4,
 "nbformat_minor": 2,
 "cells": [
  {
   "cell_type": "code",
   "execution_count": 1,
   "metadata": {},
   "outputs": [],
   "source": [
    "import pandas as pd \n",
    "import numpy as np\n"
   ]
  },
  {
   "cell_type": "code",
   "execution_count": 2,
   "metadata": {},
   "outputs": [],
   "source": [
    "# https://stackoverflow.com/questions/1401712/how-can-the-euclidean-distance-be-calculated-with-numpy\n",
    "def nearestNeighbor(idx, data):\n",
    "    closest = None\n",
    "    for i in range(data.shape[0]):\n",
    "\n",
    "        # This is basically the base case, it had to be hardcoded to prevent KeyErrors\n",
    "        if closest == None and i != idx: closest = i\n",
    "\n",
    "        # Make sure we don't keep marking the closest as itself\n",
    "        elif i != idx:\n",
    "\n",
    "            # If the current vector is closer than \"closest\", then update closest\n",
    "            if np.linalg.norm(data.vector[i] - data.vector[idx]) < np.linalg.norm(data.vector[closest] - data.vector[idx]): closest = i\n",
    "\n",
    "    # Return the classification of \"closest\"\n",
    "    return data.classification[closest]\n",
    "\n",
    "def accuracy(data):\n",
    "\n",
    "    # Running total of correct predictions\n",
    "    correctPredictions = 0\n",
    "\n",
    "    for i in range(data.shape[0]):\n",
    "\n",
    "        # if the closet neighbor has the same classification as the god given classification, then increment \"correcPredictions\" by 1\n",
    "        if nearestNeighbor(i, data) == data.classification[i]: correctPredictions += 1\n",
    "    \n",
    "    # Return the total number of correct predictions divided by the total number of pieces of data\n",
    "    return correctPredictions / data.shape[0]\n",
    "\n",
    "\n",
    "\n",
    "def forwardSearch(data):\n",
    "    features = []\n",
    "    maxAccuracy = 0\n",
    "    bestFeatures = []\n",
    "\n",
    "    for j in range(len(data.vector[0])):\n",
    "        print('Checking to add', len(features), 'th feature')\n",
    "        # initially look for the most effetive feature\n",
    "\n",
    "        accuracies = []\n",
    "        for i in range(len(data.vector[0])):\n",
    "            \n",
    "            if i not in features:\n",
    "                print('Checking feature', i)\n",
    "\n",
    "                new = data.copy(deep=True)\n",
    "\n",
    "                new.vector = data.vector.map(lambda x: x[features + [i]])\n",
    "\n",
    "                newacc = accuracy(new)\n",
    "                accuracies.append(newacc)\n",
    "\n",
    "                print(\"Accuracy of feature(s): \", (features + [i]), \" : \", newacc * 100, \"%\")\n",
    "            else: \n",
    "                accuracies.append((-1))\n",
    "\n",
    "        if np.max(accuracies) < maxAccuracy: \n",
    "            features.append(np.argmax(accuracies))\n",
    "            print(\"Using feature\", np.argmax(accuracies) , \" is the best option at this level.\")\n",
    "        else: \n",
    "            features.append(np.argmax(accuracies))\n",
    "            maxAccuracy = np.max(accuracies)\n",
    "            bestFeatures = features\n",
    "            print(\"Using feature\", np.argmax(accuracies) , \" as well improves the accuracy!\")"
   ]
  },
  {
   "cell_type": "code",
   "execution_count": 3,
   "metadata": {},
   "outputs": [
    {
     "output_type": "execute_result",
     "data": {
      "text/plain": [
       "    AREA   PERIMETER   MAJORAXIS  MINORAXIS  ECCENTRICITY  CONVEX_AREA  \\\n",
       "0  15231  525.578979  229.749878  85.093788      0.928882        15617   \n",
       "1  14656  494.311005  206.020065  91.730972      0.895405        15072   \n",
       "2  14634  501.122009  214.106781  87.768288      0.912118        14954   \n",
       "3  13176  458.342987  193.337387  87.448395      0.891861        13368   \n",
       "4  14688  507.166992  211.743378  89.312454      0.906691        15262   \n",
       "5  13479  477.015991  200.053055  86.650291      0.901328        13786   \n",
       "6  15757  509.281006  207.296677  98.336136      0.880323        16150   \n",
       "7  16405  526.570007  221.612518  95.436707      0.902521        16837   \n",
       "8  14534  483.640991  196.650818  95.050682      0.875429        14932   \n",
       "9  13485  471.570007  198.272644  87.727287      0.896789        13734   \n",
       "\n",
       "     EXTENT   CLASS  \n",
       "0  0.572896  Cammeo  \n",
       "1  0.615436  Cammeo  \n",
       "2  0.693259  Cammeo  \n",
       "3  0.640669  Cammeo  \n",
       "4  0.646024  Cammeo  \n",
       "5  0.657897  Cammeo  \n",
       "6  0.589708  Cammeo  \n",
       "7  0.658888  Cammeo  \n",
       "8  0.649651  Cammeo  \n",
       "9  0.572320  Cammeo  "
      ],
      "text/html": "<div>\n<style scoped>\n    .dataframe tbody tr th:only-of-type {\n        vertical-align: middle;\n    }\n\n    .dataframe tbody tr th {\n        vertical-align: top;\n    }\n\n    .dataframe thead th {\n        text-align: right;\n    }\n</style>\n<table border=\"1\" class=\"dataframe\">\n  <thead>\n    <tr style=\"text-align: right;\">\n      <th></th>\n      <th>AREA</th>\n      <th>PERIMETER</th>\n      <th>MAJORAXIS</th>\n      <th>MINORAXIS</th>\n      <th>ECCENTRICITY</th>\n      <th>CONVEX_AREA</th>\n      <th>EXTENT</th>\n      <th>CLASS</th>\n    </tr>\n  </thead>\n  <tbody>\n    <tr>\n      <th>0</th>\n      <td>15231</td>\n      <td>525.578979</td>\n      <td>229.749878</td>\n      <td>85.093788</td>\n      <td>0.928882</td>\n      <td>15617</td>\n      <td>0.572896</td>\n      <td>Cammeo</td>\n    </tr>\n    <tr>\n      <th>1</th>\n      <td>14656</td>\n      <td>494.311005</td>\n      <td>206.020065</td>\n      <td>91.730972</td>\n      <td>0.895405</td>\n      <td>15072</td>\n      <td>0.615436</td>\n      <td>Cammeo</td>\n    </tr>\n    <tr>\n      <th>2</th>\n      <td>14634</td>\n      <td>501.122009</td>\n      <td>214.106781</td>\n      <td>87.768288</td>\n      <td>0.912118</td>\n      <td>14954</td>\n      <td>0.693259</td>\n      <td>Cammeo</td>\n    </tr>\n    <tr>\n      <th>3</th>\n      <td>13176</td>\n      <td>458.342987</td>\n      <td>193.337387</td>\n      <td>87.448395</td>\n      <td>0.891861</td>\n      <td>13368</td>\n      <td>0.640669</td>\n      <td>Cammeo</td>\n    </tr>\n    <tr>\n      <th>4</th>\n      <td>14688</td>\n      <td>507.166992</td>\n      <td>211.743378</td>\n      <td>89.312454</td>\n      <td>0.906691</td>\n      <td>15262</td>\n      <td>0.646024</td>\n      <td>Cammeo</td>\n    </tr>\n    <tr>\n      <th>5</th>\n      <td>13479</td>\n      <td>477.015991</td>\n      <td>200.053055</td>\n      <td>86.650291</td>\n      <td>0.901328</td>\n      <td>13786</td>\n      <td>0.657897</td>\n      <td>Cammeo</td>\n    </tr>\n    <tr>\n      <th>6</th>\n      <td>15757</td>\n      <td>509.281006</td>\n      <td>207.296677</td>\n      <td>98.336136</td>\n      <td>0.880323</td>\n      <td>16150</td>\n      <td>0.589708</td>\n      <td>Cammeo</td>\n    </tr>\n    <tr>\n      <th>7</th>\n      <td>16405</td>\n      <td>526.570007</td>\n      <td>221.612518</td>\n      <td>95.436707</td>\n      <td>0.902521</td>\n      <td>16837</td>\n      <td>0.658888</td>\n      <td>Cammeo</td>\n    </tr>\n    <tr>\n      <th>8</th>\n      <td>14534</td>\n      <td>483.640991</td>\n      <td>196.650818</td>\n      <td>95.050682</td>\n      <td>0.875429</td>\n      <td>14932</td>\n      <td>0.649651</td>\n      <td>Cammeo</td>\n    </tr>\n    <tr>\n      <th>9</th>\n      <td>13485</td>\n      <td>471.570007</td>\n      <td>198.272644</td>\n      <td>87.727287</td>\n      <td>0.896789</td>\n      <td>13734</td>\n      <td>0.572320</td>\n      <td>Cammeo</td>\n    </tr>\n  </tbody>\n</table>\n</div>"
     },
     "metadata": {},
     "execution_count": 3
    }
   ],
   "source": [
    "# https://archive.ics.uci.edu/ml/datasets/Rice+%28Cammeo+and+Osmancik%29\n",
    "# https://www.muratkoklu.com/datasets/\n",
    "\n",
    "df = pd.read_excel('./Rice_Osmancik_Cammeo_Dataset.xlsx')\n",
    "df.head(10)"
   ]
  },
  {
   "cell_type": "code",
   "execution_count": 4,
   "metadata": {},
   "outputs": [],
   "source": [
    "for column in df.columns:\n",
    "    if column != 'CLASS' and column != 'vector':\n",
    "        df[column] = (df[column] - df[column].mean()) / df[column].std()"
   ]
  },
  {
   "cell_type": "code",
   "execution_count": 5,
   "metadata": {},
   "outputs": [
    {
     "output_type": "execute_result",
     "data": {
      "text/plain": [
       "          AREA  PERIMETER  MAJORAXIS  MINORAXIS  ECCENTRICITY  CONVEX_AREA  \\\n",
       "0     1.479635   2.004091   2.348238  -0.212915      2.018073     1.499463   \n",
       "1     1.147720   1.125705   0.988261   0.945444      0.409964     1.192761   \n",
       "2     1.135020   1.317041   1.451718   0.253854      1.212797     1.126356   \n",
       "3     0.293398   0.115285   0.261405   0.198025      0.239720     0.233826   \n",
       "4     1.166191   1.486858   1.316269   0.523351      0.952096     1.299685   \n",
       "...        ...        ...        ...        ...           ...          ...   \n",
       "3805 -0.708122  -1.078211  -1.048185  -0.097238     -1.085140    -0.745367   \n",
       "3806 -0.601909  -0.922805  -1.207050   0.549550     -1.970472    -0.590047   \n",
       "3807 -0.133186  -0.329808  -0.298206   0.085208     -0.275063    -0.173045   \n",
       "3808 -1.608046  -1.740092  -1.580764  -1.414228     -0.598743    -1.606945   \n",
       "3809 -0.712163  -1.391383  -1.587338   0.794867     -2.938774    -0.766189   \n",
       "\n",
       "        EXTENT     CLASS  \n",
       "0    -1.152770    Cammeo  \n",
       "1    -0.602000    Cammeo  \n",
       "2     0.405558    Cammeo  \n",
       "3    -0.275315    Cammeo  \n",
       "4    -0.205986    Cammeo  \n",
       "...        ...       ...  \n",
       "3805  0.246999  Osmancik  \n",
       "3806  0.418760  Osmancik  \n",
       "3807 -0.455671  Osmancik  \n",
       "3808 -0.037163  Osmancik  \n",
       "3809  1.825707  Osmancik  \n",
       "\n",
       "[3810 rows x 8 columns]"
      ],
      "text/html": "<div>\n<style scoped>\n    .dataframe tbody tr th:only-of-type {\n        vertical-align: middle;\n    }\n\n    .dataframe tbody tr th {\n        vertical-align: top;\n    }\n\n    .dataframe thead th {\n        text-align: right;\n    }\n</style>\n<table border=\"1\" class=\"dataframe\">\n  <thead>\n    <tr style=\"text-align: right;\">\n      <th></th>\n      <th>AREA</th>\n      <th>PERIMETER</th>\n      <th>MAJORAXIS</th>\n      <th>MINORAXIS</th>\n      <th>ECCENTRICITY</th>\n      <th>CONVEX_AREA</th>\n      <th>EXTENT</th>\n      <th>CLASS</th>\n    </tr>\n  </thead>\n  <tbody>\n    <tr>\n      <th>0</th>\n      <td>1.479635</td>\n      <td>2.004091</td>\n      <td>2.348238</td>\n      <td>-0.212915</td>\n      <td>2.018073</td>\n      <td>1.499463</td>\n      <td>-1.152770</td>\n      <td>Cammeo</td>\n    </tr>\n    <tr>\n      <th>1</th>\n      <td>1.147720</td>\n      <td>1.125705</td>\n      <td>0.988261</td>\n      <td>0.945444</td>\n      <td>0.409964</td>\n      <td>1.192761</td>\n      <td>-0.602000</td>\n      <td>Cammeo</td>\n    </tr>\n    <tr>\n      <th>2</th>\n      <td>1.135020</td>\n      <td>1.317041</td>\n      <td>1.451718</td>\n      <td>0.253854</td>\n      <td>1.212797</td>\n      <td>1.126356</td>\n      <td>0.405558</td>\n      <td>Cammeo</td>\n    </tr>\n    <tr>\n      <th>3</th>\n      <td>0.293398</td>\n      <td>0.115285</td>\n      <td>0.261405</td>\n      <td>0.198025</td>\n      <td>0.239720</td>\n      <td>0.233826</td>\n      <td>-0.275315</td>\n      <td>Cammeo</td>\n    </tr>\n    <tr>\n      <th>4</th>\n      <td>1.166191</td>\n      <td>1.486858</td>\n      <td>1.316269</td>\n      <td>0.523351</td>\n      <td>0.952096</td>\n      <td>1.299685</td>\n      <td>-0.205986</td>\n      <td>Cammeo</td>\n    </tr>\n    <tr>\n      <th>...</th>\n      <td>...</td>\n      <td>...</td>\n      <td>...</td>\n      <td>...</td>\n      <td>...</td>\n      <td>...</td>\n      <td>...</td>\n      <td>...</td>\n    </tr>\n    <tr>\n      <th>3805</th>\n      <td>-0.708122</td>\n      <td>-1.078211</td>\n      <td>-1.048185</td>\n      <td>-0.097238</td>\n      <td>-1.085140</td>\n      <td>-0.745367</td>\n      <td>0.246999</td>\n      <td>Osmancik</td>\n    </tr>\n    <tr>\n      <th>3806</th>\n      <td>-0.601909</td>\n      <td>-0.922805</td>\n      <td>-1.207050</td>\n      <td>0.549550</td>\n      <td>-1.970472</td>\n      <td>-0.590047</td>\n      <td>0.418760</td>\n      <td>Osmancik</td>\n    </tr>\n    <tr>\n      <th>3807</th>\n      <td>-0.133186</td>\n      <td>-0.329808</td>\n      <td>-0.298206</td>\n      <td>0.085208</td>\n      <td>-0.275063</td>\n      <td>-0.173045</td>\n      <td>-0.455671</td>\n      <td>Osmancik</td>\n    </tr>\n    <tr>\n      <th>3808</th>\n      <td>-1.608046</td>\n      <td>-1.740092</td>\n      <td>-1.580764</td>\n      <td>-1.414228</td>\n      <td>-0.598743</td>\n      <td>-1.606945</td>\n      <td>-0.037163</td>\n      <td>Osmancik</td>\n    </tr>\n    <tr>\n      <th>3809</th>\n      <td>-0.712163</td>\n      <td>-1.391383</td>\n      <td>-1.587338</td>\n      <td>0.794867</td>\n      <td>-2.938774</td>\n      <td>-0.766189</td>\n      <td>1.825707</td>\n      <td>Osmancik</td>\n    </tr>\n  </tbody>\n</table>\n<p>3810 rows × 8 columns</p>\n</div>"
     },
     "metadata": {},
     "execution_count": 5
    }
   ],
   "source": [
    "df"
   ]
  },
  {
   "cell_type": "code",
   "execution_count": 6,
   "metadata": {},
   "outputs": [
    {
     "output_type": "execute_result",
     "data": {
      "text/plain": [
       "array([-1.60804635, -1.74009162, -1.58076367, -1.41422844, -0.59874275,\n",
       "       -1.60694529, -0.03716269])"
      ]
     },
     "metadata": {},
     "execution_count": 6
    }
   ],
   "source": [
    "vectors = []\n",
    "for i in range(df.shape[0]):\n",
    "    temp = []\n",
    "    for column in df.columns:\n",
    "        if column != 'CLASS' and column != 'vector':\n",
    "            temp.append(df[column][i])\n",
    "    vectors.append(np.array(temp))\n",
    "vectors[3808]"
   ]
  },
  {
   "cell_type": "code",
   "execution_count": 7,
   "metadata": {},
   "outputs": [
    {
     "output_type": "execute_result",
     "data": {
      "text/plain": [
       "                                                vector classification\n",
       "0    [1.4796353175814465, 2.004091247145826, 2.3482...         Cammeo\n",
       "1    [1.147719640566751, 1.12570533498003, 0.988260...         Cammeo\n",
       "2    [1.135020258141841, 1.3170413760998338, 1.4517...         Cammeo\n",
       "3    [0.29339755016370844, 0.11528492632972509, 0.2...         Cammeo\n",
       "4    [1.1661914695484383, 1.4868581887472714, 1.316...         Cammeo\n",
       "..                                                 ...            ...\n",
       "495  [-1.676161215008711, -1.777735051629186, -1.63...       Osmancik\n",
       "496  [-0.46856539533089697, -0.6285957345426955, -0...       Osmancik\n",
       "497  [-0.3508074855726398, -0.43442286911250305, -0...       Osmancik\n",
       "498  [-0.5210946589975706, -0.699613217837939, -0.8...       Osmancik\n",
       "499  [1.5887345575045377, 1.382720417273352, 0.9903...       Osmancik\n",
       "\n",
       "[500 rows x 2 columns]"
      ],
      "text/html": "<div>\n<style scoped>\n    .dataframe tbody tr th:only-of-type {\n        vertical-align: middle;\n    }\n\n    .dataframe tbody tr th {\n        vertical-align: top;\n    }\n\n    .dataframe thead th {\n        text-align: right;\n    }\n</style>\n<table border=\"1\" class=\"dataframe\">\n  <thead>\n    <tr style=\"text-align: right;\">\n      <th></th>\n      <th>vector</th>\n      <th>classification</th>\n    </tr>\n  </thead>\n  <tbody>\n    <tr>\n      <th>0</th>\n      <td>[1.4796353175814465, 2.004091247145826, 2.3482...</td>\n      <td>Cammeo</td>\n    </tr>\n    <tr>\n      <th>1</th>\n      <td>[1.147719640566751, 1.12570533498003, 0.988260...</td>\n      <td>Cammeo</td>\n    </tr>\n    <tr>\n      <th>2</th>\n      <td>[1.135020258141841, 1.3170413760998338, 1.4517...</td>\n      <td>Cammeo</td>\n    </tr>\n    <tr>\n      <th>3</th>\n      <td>[0.29339755016370844, 0.11528492632972509, 0.2...</td>\n      <td>Cammeo</td>\n    </tr>\n    <tr>\n      <th>4</th>\n      <td>[1.1661914695484383, 1.4868581887472714, 1.316...</td>\n      <td>Cammeo</td>\n    </tr>\n    <tr>\n      <th>...</th>\n      <td>...</td>\n      <td>...</td>\n    </tr>\n    <tr>\n      <th>495</th>\n      <td>[-1.676161215008711, -1.777735051629186, -1.63...</td>\n      <td>Osmancik</td>\n    </tr>\n    <tr>\n      <th>496</th>\n      <td>[-0.46856539533089697, -0.6285957345426955, -0...</td>\n      <td>Osmancik</td>\n    </tr>\n    <tr>\n      <th>497</th>\n      <td>[-0.3508074855726398, -0.43442286911250305, -0...</td>\n      <td>Osmancik</td>\n    </tr>\n    <tr>\n      <th>498</th>\n      <td>[-0.5210946589975706, -0.699613217837939, -0.8...</td>\n      <td>Osmancik</td>\n    </tr>\n    <tr>\n      <th>499</th>\n      <td>[1.5887345575045377, 1.382720417273352, 0.9903...</td>\n      <td>Osmancik</td>\n    </tr>\n  </tbody>\n</table>\n<p>500 rows × 2 columns</p>\n</div>"
     },
     "metadata": {},
     "execution_count": 7
    }
   ],
   "source": [
    "data = pd.DataFrame(pd.Series(vectors))\n",
    "data.columns = ['vector']\n",
    "data['classification'] = df.CLASS\n",
    "subset =  pd.concat( [data[data.classification == 'Cammeo'][0:250], data[data.classification == 'Osmancik'][0:250]] )\n",
    "subset = subset.reset_index(drop=True)\n",
    "subset"
   ]
  },
  {
   "cell_type": "code",
   "execution_count": 8,
   "metadata": {},
   "outputs": [
    {
     "output_type": "execute_result",
     "data": {
      "text/plain": [
       "0.892"
      ]
     },
     "metadata": {},
     "execution_count": 8
    }
   ],
   "source": [
    "accuracy(subset)"
   ]
  },
  {
   "cell_type": "code",
   "execution_count": 9,
   "metadata": {
    "tags": []
   },
   "outputs": [
    {
     "output_type": "stream",
     "name": "stdout",
     "text": [
      "Checking to add 0 th feature\n",
      "Checking feature 0\n",
      "Accuracy of feature(s):  [0]  :  88.4 %\n",
      "Checking feature 1\n",
      "Accuracy of feature(s):  [1]  :  90.60000000000001 %\n",
      "Checking feature 2\n",
      "Accuracy of feature(s):  [2]  :  89.0 %\n",
      "Checking feature 3\n",
      "Accuracy of feature(s):  [3]  :  60.4 %\n",
      "Checking feature 4\n",
      "Accuracy of feature(s):  [4]  :  71.8 %\n",
      "Checking feature 5\n",
      "Accuracy of feature(s):  [5]  :  86.2 %\n",
      "Checking feature 6\n",
      "Accuracy of feature(s):  [6]  :  51.800000000000004 %\n",
      "Using feature 1  as well improves the accuracy!\n",
      "Checking to add 1 th feature\n",
      "Checking feature 0\n",
      "Accuracy of feature(s):  [1, 0]  :  88.6 %\n",
      "Checking feature 2\n",
      "Accuracy of feature(s):  [1, 2]  :  91.0 %\n",
      "Checking feature 3\n",
      "Accuracy of feature(s):  [1, 3]  :  90.4 %\n",
      "Checking feature 4\n",
      "Accuracy of feature(s):  [1, 4]  :  90.4 %\n",
      "Checking feature 5\n",
      "Accuracy of feature(s):  [1, 5]  :  89.2 %\n",
      "Checking feature 6\n",
      "Accuracy of feature(s):  [1, 6]  :  87.6 %\n",
      "Using feature 2  as well improves the accuracy!\n",
      "Checking to add 2 th feature\n",
      "Checking feature 0\n",
      "Accuracy of feature(s):  [1, 2, 0]  :  90.4 %\n",
      "Checking feature 3\n",
      "Accuracy of feature(s):  [1, 2, 3]  :  90.2 %\n",
      "Checking feature 4\n",
      "Accuracy of feature(s):  [1, 2, 4]  :  90.4 %\n",
      "Checking feature 5\n",
      "Accuracy of feature(s):  [1, 2, 5]  :  90.4 %\n",
      "Checking feature 6\n",
      "Accuracy of feature(s):  [1, 2, 6]  :  88.6 %\n",
      "Using feature 0  is the best option at this level.\n",
      "Checking to add 3 th feature\n",
      "Checking feature 3\n",
      "Accuracy of feature(s):  [1, 2, 0, 3]  :  90.4 %\n",
      "Checking feature 4\n",
      "Accuracy of feature(s):  [1, 2, 0, 4]  :  90.2 %\n",
      "Checking feature 5\n",
      "Accuracy of feature(s):  [1, 2, 0, 5]  :  90.2 %\n",
      "Checking feature 6\n",
      "Accuracy of feature(s):  [1, 2, 0, 6]  :  87.6 %\n",
      "Using feature 3  is the best option at this level.\n",
      "Checking to add 4 th feature\n",
      "Checking feature 4\n",
      "Accuracy of feature(s):  [1, 2, 0, 3, 4]  :  89.60000000000001 %\n",
      "Checking feature 5\n",
      "Accuracy of feature(s):  [1, 2, 0, 3, 5]  :  90.4 %\n",
      "Checking feature 6\n",
      "Accuracy of feature(s):  [1, 2, 0, 3, 6]  :  89.2 %\n",
      "Using feature 5  is the best option at this level.\n",
      "Checking to add 5 th feature\n",
      "Checking feature 4\n",
      "Accuracy of feature(s):  [1, 2, 0, 3, 5, 4]  :  89.4 %\n",
      "Checking feature 6\n",
      "Accuracy of feature(s):  [1, 2, 0, 3, 5, 6]  :  89.0 %\n",
      "Using feature 4  is the best option at this level.\n",
      "Checking to add 6 th feature\n",
      "Checking feature 6\n",
      "Accuracy of feature(s):  [1, 2, 0, 3, 5, 4, 6]  :  89.2 %\n",
      "Using feature 6  is the best option at this level.\n"
     ]
    }
   ],
   "source": [
    "forwardSearch(subset)"
   ]
  },
  {
   "cell_type": "code",
   "execution_count": null,
   "metadata": {},
   "outputs": [],
   "source": []
  }
 ]
}